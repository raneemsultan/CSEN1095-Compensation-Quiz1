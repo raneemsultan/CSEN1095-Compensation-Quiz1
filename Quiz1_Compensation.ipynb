{
  "nbformat": 4,
  "nbformat_minor": 0,
  "metadata": {
    "colab": {
      "name": "Quiz1-Compensation.ipynb",
      "provenance": [],
      "collapsed_sections": []
    },
    "kernelspec": {
      "name": "python3",
      "display_name": "Python 3"
    }
  },
  "cells": [
    {
      "cell_type": "markdown",
      "metadata": {
        "id": "AUPnxo6z1rPJ"
      },
      "source": [
        "\n",
        "# **Quiz 1 Compensation**"
      ]
    },
    {
      "cell_type": "markdown",
      "metadata": {
        "id": "bw7r9jfH1xcs"
      },
      "source": [
        "## **Question 1A**"
      ]
    },
    {
      "cell_type": "markdown",
      "metadata": {
        "id": "fOfhooNE12K_"
      },
      "source": [
        "You'll be using the pnwflights14 dataset which contains information about all flights that departed from the two major airports of the Pacific Northwest (PNW), SEA in Seattle and PDX in Portland, in 2014."
      ]
    },
    {
      "cell_type": "markdown",
      "metadata": {
        "id": "MOal5Zsd19FI"
      },
      "source": [
        "You can find the dataset here: https://raw.githubusercontent.com/raneemsultan/CSEN1095-Compensation-Quiz1/main/Flights.csv?token=AISUWQRP7MVAIASU6GAYGVK7Y44KO"
      ]
    },
    {
      "cell_type": "markdown",
      "metadata": {
        "id": "emn7kmRA2Dwv"
      },
      "source": [
        "Use appropriate encoding methods on the categorical attributes for the dataframe. Make sure that all the columns are numerical at the end of your implementation. Use **at least** two encoding methods and choose the method that is appropriate to the column you are encoding. You will justify your choice of encoding method in question 1B below."
      ]
    },
    {
      "cell_type": "code",
      "metadata": {
        "id": "Zo5BmG1j2iI3"
      },
      "source": [
        "#Your code here"
      ],
      "execution_count": null,
      "outputs": []
    },
    {
      "cell_type": "markdown",
      "metadata": {
        "id": "hDU3bslE2Sv_"
      },
      "source": [
        "## **Question 1B**"
      ]
    },
    {
      "cell_type": "markdown",
      "metadata": {
        "id": "S9zz1hWk2r5q"
      },
      "source": [
        "**Justify your choice of encoding method above for each attribute you encoded.**"
      ]
    },
    {
      "cell_type": "markdown",
      "metadata": {
        "id": "tF7hv0nt22CN"
      },
      "source": [
        "\n",
        "\n",
        "*  \n",
        "\n"
      ]
    },
    {
      "cell_type": "markdown",
      "metadata": {
        "id": "RDB-k4mY2lAS"
      },
      "source": [
        "## **Question 2**"
      ]
    },
    {
      "cell_type": "markdown",
      "metadata": {
        "id": "keMFUG582Z4W"
      },
      "source": [
        "Use the following dataset: https://raw.githubusercontent.com/TrainingByPackt/Data-Science-with-Python/master/Chapter01/Data/Student_bucketing.csv\n",
        "\n",
        "Discretize the `marks` column using the following ranges:['Poor','Below_average','Average','Above_Average','Excellent']. Each range should contain 20 marks. Poor(0-20), Below_average(21-40) and so on till Excellent(80-100)."
      ]
    },
    {
      "cell_type": "code",
      "metadata": {
        "id": "keEBf2841s3o"
      },
      "source": [
        "#Your code here"
      ],
      "execution_count": null,
      "outputs": []
    }
  ]
}